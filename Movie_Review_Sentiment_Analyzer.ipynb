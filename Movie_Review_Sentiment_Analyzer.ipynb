{
  "nbformat": 4,
  "nbformat_minor": 0,
  "metadata": {
    "colab": {
      "name": "Movie Review Sentiment Analyzer.ipynb",
      "provenance": [],
      "collapsed_sections": []
    },
    "kernelspec": {
      "name": "python3",
      "display_name": "Python 3"
    }
  },
  "cells": [
    {
      "cell_type": "code",
      "metadata": {
        "id": "UKuy3VOzhsKA"
      },
      "source": [
        "# Inspired from keras example guide found at (https://keras.io/examples/nlp/text_classification_from_scratch/)\n",
        "# Written by Mark Omernick, Francois Chollet\n",
        "import numpy as np\n",
        "import tensorflow as tf\n",
        "from tensorflow import keras"
      ],
      "execution_count": null,
      "outputs": []
    },
    {
      "cell_type": "code",
      "metadata": {
        "colab": {
          "base_uri": "https://localhost:8080/"
        },
        "id": "eG4j22ZHYBZx",
        "outputId": "e634bb99-1d9d-47d5-91f3-dea0a9272525"
      },
      "source": [
        "# Download the imdb review data\n",
        "!curl -O https://ai.stanford.edu/~amaas/data/sentiment/aclImdb_v1.tar.gz\n",
        "!tar -xf aclImdb_v1.tar.gz\n",
        "\n",
        "# Keep only the pos and neg reviews to be used\n",
        "!rm -r aclImdb/train/unsup"
      ],
      "execution_count": null,
      "outputs": [
        {
          "output_type": "stream",
          "text": [
            "  % Total    % Received % Xferd  Average Speed   Time    Time     Time  Current\n",
            "                                 Dload  Upload   Total   Spent    Left  Speed\n",
            "100 80.2M  100 80.2M    0     0  15.5M      0  0:00:05  0:00:05 --:--:-- 18.4M\n"
          ],
          "name": "stdout"
        }
      ]
    },
    {
      "cell_type": "code",
      "metadata": {
        "colab": {
          "base_uri": "https://localhost:8080/"
        },
        "id": "C0oNWHhDYUE3",
        "outputId": "2b470144-a4c5-4d01-d2f7-66ae638d812a"
      },
      "source": [
        "# Separate the data into batches\n",
        "batch_size = 32\n",
        "raw_train_ds = tf.keras.preprocessing.text_dataset_from_directory(\n",
        "    \"aclImdb/train\",\n",
        "    batch_size = batch_size,\n",
        "    validation_split = 0.2,\n",
        "    subset = \"training\",\n",
        "    seed = 382,\n",
        ")\n",
        "raw_val_ds = tf.keras.preprocessing.text_dataset_from_directory(\n",
        "    \"aclImdb/train\",\n",
        "    batch_size = batch_size,\n",
        "    validation_split = 0.2,\n",
        "    subset = \"validation\",\n",
        "    seed = 382,\n",
        ")\n",
        "raw_test_ds = tf.keras.preprocessing.text_dataset_from_directory(\n",
        "    \"aclImdb/test\",\n",
        "    batch_size = batch_size\n",
        ")\n",
        "\n",
        "# Show example of dataset\n",
        "movie_reviews = list(raw_test_ds.as_numpy_iterator())\n",
        "print(movie_reviews[0][0][0])\n",
        "print(movie_reviews[0][1][0])"
      ],
      "execution_count": null,
      "outputs": [
        {
          "output_type": "stream",
          "text": [
            "Found 25000 files belonging to 2 classes.\n",
            "Using 20000 files for training.\n",
            "Found 25000 files belonging to 2 classes.\n",
            "Using 5000 files for validation.\n",
            "Found 25000 files belonging to 2 classes.\n",
            "b\"This is possibly one of the worst movies I have had the dis-pleasure of watching in my entire life. The plot is ridiculous and the characters are horrible people. I watched this film with 3 friends and we all agreed to turn it off 30 minutes before the end. Ben Kingsley's character is just plain stupid but not funny at all. It is a wonder why an actor of his talent would be involved in such tripe. Tea Leoni does a fine Hillary Clinton impression throughout to portray the very cold and uninteresting female lead who has all the endearing qualities of a broom handle. Throw in a pointless and unexplained sub-plot and a horribly cringe worthy montage, and you end up with a waste of 93 minutes (60 in my case). Avoid this film at all costs!\"\n",
            "0\n"
          ],
          "name": "stdout"
        }
      ]
    },
    {
      "cell_type": "code",
      "metadata": {
        "id": "wQCmdOF2b3sd"
      },
      "source": [
        "# Prepare the data\n",
        "from tensorflow.keras.layers.experimental.preprocessing import TextVectorization\n",
        "import string\n",
        "import re\n",
        "\n",
        "# This function removes  the '<br />' tags from the text\n",
        "def custom_standardization(input_data):\n",
        "  lowercase = tf.strings.lower(input_data)\n",
        "  stripped_html = tf.strings.regex_replace(lowercase, \"<br />\", \" \")\n",
        "  return tf.strings.regex_replace(\n",
        "      stripped_html, \"[%s]\" % re.escape(string.punctuation), \"\"\n",
        "  )"
      ],
      "execution_count": null,
      "outputs": []
    },
    {
      "cell_type": "code",
      "metadata": {
        "id": "qJC6rnTZlRdO"
      },
      "source": [
        "# Model constants\n",
        "max_features = 20000\n",
        "embedding_dim = 128\n",
        "sequence_length = 500"
      ],
      "execution_count": null,
      "outputs": []
    },
    {
      "cell_type": "code",
      "metadata": {
        "id": "f5g07KiAdnag"
      },
      "source": [
        "# Text vectorization\n",
        "vectorize_layer = TextVectorization(\n",
        "    standardize = custom_standardization,\n",
        "    max_tokens = max_features,\n",
        "    output_mode = \"int\",\n",
        "    output_sequence_length = sequence_length,\n",
        ")\n",
        "\n",
        "# Make a text-only dataset\n",
        "text_ds = raw_train_ds.map(lambda x, y: x)\n",
        "# Call adapt\n",
        "vectorize_layer.adapt(text_ds)\n",
        "\n",
        "def vectorize_text(text, label):\n",
        "  text = tf.expand_dims(text, -1)\n",
        "  return vectorize_layer(text), label\n",
        "\n",
        "# Vectorize the data\n",
        "train_ds = raw_train_ds.map(vectorize_text)\n",
        "val_ds = raw_val_ds.map(vectorize_text)\n",
        "test_ds = raw_test_ds.map(vectorize_text)\n",
        "\n",
        "# Do async prefectching for better performance on GPU\n",
        "train_ds = train_ds.cache().prefetch(buffer_size=10)\n",
        "val_ds = val_ds.cache().prefetch(buffer_size=10)\n",
        "test_ds = test_ds.cache().prefetch(buffer_size=10)"
      ],
      "execution_count": null,
      "outputs": []
    },
    {
      "cell_type": "code",
      "metadata": {
        "id": "NUr7dtIMgyD0"
      },
      "source": [
        "from tensorflow.keras import layers\n",
        "\n",
        "# An integer input for vocab indices\n",
        "inputs = tf.keras.Input(shape=(None,), dtype=\"int64\")\n",
        "\n",
        "# Next, we add a layer to map those vocab indices into a space of dimensionality\n",
        "# 'embedding_dim'\n",
        "x = layers.Embedding(max_features, embedding_dim)(inputs)\n",
        "\n",
        "# Conv1D + global max pooling\n",
        "x = layers.Conv1D(128, 7, padding=\"same\", activation=\"relu\", strides=3)(x)\n",
        "x = layers.Conv1D(128, 7, activation=\"relu\", strides=3)(x)\n",
        "x = layers.GlobalMaxPooling1D()(x)\n",
        "x = layers.Dropout(0.5)(x)\n",
        "\n",
        "# We add a vanilla hidden layers\n",
        "x = layers.Flatten()(x)\n",
        "x = layers.Dense(128, activation=\"relu\")(x)\n",
        "x = layers.Dropout(0.5)(x)\n",
        "\n",
        "# We projectt onto a single unit output layer, and squash it with a sigmoid\n",
        "predictions = layers.Dense(1, activation=\"sigmoid\", name=\"predictions\")(x)\n",
        "\n",
        "model = tf.keras.Model(inputs, predictions)\n",
        "\n",
        "# Compile the model with binary crossentropy loss and an adam optimizer\n",
        "model.compile(loss=\"binary_crossentropy\", optimizer=\"adam\", metrics=[\"accuracy\"])"
      ],
      "execution_count": null,
      "outputs": []
    },
    {
      "cell_type": "code",
      "metadata": {
        "colab": {
          "base_uri": "https://localhost:8080/",
          "height": 953
        },
        "id": "fRPsxohTz8o8",
        "outputId": "8acafd54-a476-4853-cf1e-10cf9438817b"
      },
      "source": [
        "keras.utils.plot_model(model)"
      ],
      "execution_count": null,
      "outputs": [
        {
          "output_type": "execute_result",
          "data": {
            "image/png": "[encoded data removed]",
            "text/plain": [
              "<IPython.core.display.Image object>"
            ]
          },
          "metadata": {
            "tags": []
          },
          "execution_count": 8
        }
      ]
    },
    {
      "cell_type": "code",
      "metadata": {
        "colab": {
          "base_uri": "https://localhost:8080/"
        },
        "id": "4OmRFG9LpRE5",
        "outputId": "65836073-52ab-4910-cb2c-2f58ce5871bd"
      },
      "source": [
        "epochs = 2\n",
        "\n",
        "# Fit the model using the train and test datasets\n",
        "model.fit(train_ds, validation_data=val_ds, epochs=epochs)"
      ],
      "execution_count": null,
      "outputs": [
        {
          "output_type": "stream",
          "text": [
            "Epoch 1/2\n",
            "625/625 [==============================] - 110s 174ms/step - loss: 0.6164 - accuracy: 0.6041 - val_loss: 0.3239 - val_accuracy: 0.8624\n",
            "Epoch 2/2\n",
            "625/625 [==============================] - 103s 165ms/step - loss: 0.2672 - accuracy: 0.8943 - val_loss: 0.3978 - val_accuracy: 0.8650\n"
          ],
          "name": "stdout"
        },
        {
          "output_type": "execute_result",
          "data": {
            "text/plain": [
              "<tensorflow.python.keras.callbacks.History at 0x7f5631c89450>"
            ]
          },
          "metadata": {
            "tags": []
          },
          "execution_count": 9
        }
      ]
    },
    {
      "cell_type": "code",
      "metadata": {
        "colab": {
          "base_uri": "https://localhost:8080/"
        },
        "id": "hZqFaWuTjTbI",
        "outputId": "edec2329-d418-4176-e815-65f46760be54"
      },
      "source": [
        "# Evaluate the model\n",
        "model.evaluate(test_ds)"
      ],
      "execution_count": null,
      "outputs": [
        {
          "output_type": "stream",
          "text": [
            "782/782 [==============================] - 33s 42ms/step - loss: 0.4021 - accuracy: 0.8580\n"
          ],
          "name": "stdout"
        },
        {
          "output_type": "execute_result",
          "data": {
            "text/plain": [
              "[0.402133584022522, 0.8579999804496765]"
            ]
          },
          "metadata": {
            "tags": []
          },
          "execution_count": 10
        }
      ]
    },
    {
      "cell_type": "code",
      "metadata": {
        "colab": {
          "base_uri": "https://localhost:8080/"
        },
        "id": "N7cMKkXDjYf2",
        "outputId": "66aa1cdb-03d6-4dce-bf1c-8c894202a934"
      },
      "source": [
        "# Make an end-to-end model so that we can pass raw_strings into it\n",
        "\n",
        "# A string input\n",
        "inputs = tf.keras.Input(shape=(1,), dtype=\"string\")\n",
        "# Turn strings into vocab indices\n",
        "indices = vectorize_layer(inputs)\n",
        "# Turn vocab indices into predictions\n",
        "outputs = model(indices)\n",
        "\n",
        "# Our end-to-end model\n",
        "end_to_end_model = tf.keras.Model(inputs, outputs)\n",
        "end_to_end_model.compile(\n",
        "    loss=\"binary_crossentropy\", optimizer=\"adam\", metrics=[\"accuracy\"]\n",
        ")\n",
        "\n",
        "# Test it with 'raw_test_ds', which has raw strings\n",
        "end_to_end_model.evaluate(raw_test_ds)"
      ],
      "execution_count": null,
      "outputs": [
        {
          "output_type": "stream",
          "text": [
            "782/782 [==============================] - 37s 46ms/step - loss: 0.4109 - accuracy: 0.8550\n"
          ],
          "name": "stdout"
        },
        {
          "output_type": "execute_result",
          "data": {
            "text/plain": [
              "[0.4021335244178772, 0.8579999804496765]"
            ]
          },
          "metadata": {
            "tags": []
          },
          "execution_count": 11
        }
      ]
    },
    {
      "cell_type": "code",
      "metadata": {
        "id": "WodB1-IdiNH9",
        "colab": {
          "base_uri": "https://localhost:8080/"
        },
        "outputId": "2107477d-a6e7-4235-d448-dce29ab92ddd"
      },
      "source": [
        "additional_reviews = np.array([[\"Absolutely nothing about this makes sense. From the fact that the girl kind of had to start teaching sign language to Kong by the time she was 1 week old, to the hollow earth ridiculous theory of a guy that wrote a book nobody bought but suddenly caught the eye of a Mexican gazillionaire with Mexican accent but an Amrican name that took a couple of months to build the technology that must have taken at least 15 years to design, test, and build. Nothing makes any sense whatsoever. Yes, the special effects and sound might be good but nothing else does.\",\n",
        "                         \"GODzilla Vs KINGkong . It's a feast to eyes for action lovers . It's the movie all the fans of Godzilla & King kong are waiting for . The script , direction and visual effects are done wonderfully . There is not even one dull moment in the film , unlike previous two Godzilla movies . There are some goosebumps moments which makes people scream . Millie brown , Brian , Julian made some funny moments . This movie being released first in India , one week before USA release Is a smart move . Result of which most of the people in India can watch this epic in theaters . This is not a movie to be watched in OTT or pirated print or DVD . Experience this epic in nearest theatres , take all precautions of covid .\",\n",
        "                         \"While Melissa McCarthy can be funny (I enjoyed The Heat and Spy), it's obvious no matter the studio, everything McCarthy and her husband, Ben Falcone, offer up is immediately greenlit. That has to stop. This is the umpeeth unfunny movie by the married duo. After the first 30 minutes, I simply had the movie on in the background, but could still hear McCarthy's ad-libs which were excruciatingly awful. If this is the best an immensely talented actress like Octavia Spencer has to pick from, that's a sad commentary on the state of comedic films. Let's hope she got a big, upfront payday.\",\n",
        "                         \"Last movie I saw was Minari, it was great, but sometimes watching something silly that doesn't invoke a lot of emotion is good for the soul too. After a long week of work and being tired and needing to unwind I watched this and found it really entertaining. Laughed out loud throughout the whole movie. If you like Melissa McCarthy then you'll enjoy this. Especially with her teamed up with Jason Bateman again. If you are looking for something to stimulate you intellectually this isn't the movie but it isn't intended to be either.\",\n",
        "                         \"I know a movie is hardly as good as the book, but come on... HP 4 was a great movie, and so were the others. This lacks of plot (well, the book's, for it has Ron's romantic life as one) and of details: Dumbledore's chat about horcruxes and possible ones. Ginny and Harry's REAL kiss. Fleur and the wedding, very important in the next. the OTHER minister. Fenrir Grayback Tonk's patronus and explanation the funeral. It isn't that I expected a faithful adaptation, but those are important details. I loved the way you can kill the Headmaster and then walk through the corridors, even destroying the Great Hall without no one waking up nor listening, and also do an fatal curse like Sectumsempra and not getting even detention...Hardly a decent movie, it could have been better, MUCH better. It's a shame that nowadays most directors only care to make money...\",\n",
        "                         \"HP6 is a dark and emotionally thrilling masterpiece. It combines magical awes that appeal mostly to children as well as mature and dark themes that appeal to almost everyone. It discovers the dark and mysterious past of you-know-who and leaves the audience aching for more as its two and half hours run time go by in a flash. The film contains dazzling visuals and terrific cinematography. It is indeed a satisfying experience that will please just about everyone. One thing is for certain though: in resemblance to the Rowling novels, the film series seems to get darker and more mature with every passing film while keeping an incredible PG rating (in the exception of HP4 & 5). This film not only has some bangs and booms but also explores the theme of teenage love as the three protagonists find themselves tangled in teenage romances. Overall a top notch film worth seeing over and over. Cant wait for the arrival of the Deathly Hallows.\"],\n",
        "                       [0,1,0,1,0,1]])\n",
        "print(additional_reviews[0])"
      ],
      "execution_count": null,
      "outputs": [
        {
          "output_type": "stream",
          "text": [
            "['Absolutely nothing about this makes sense. From the fact that the girl kind of had to start teaching sign language to Kong by the time she was 1 week old, to the hollow earth ridiculous theory of a guy that wrote a book nobody bought but suddenly caught the eye of a Mexican gazillionaire with Mexican accent but an Amrican name that took a couple of months to build the technology that must have taken at least 15 years to design, test, and build. Nothing makes any sense whatsoever. Yes, the special effects and sound might be good but nothing else does.'\n",
            " \"GODzilla Vs KINGkong . It's a feast to eyes for action lovers . It's the movie all the fans of Godzilla & King kong are waiting for . The script , direction and visual effects are done wonderfully . There is not even one dull moment in the film , unlike previous two Godzilla movies . There are some goosebumps moments which makes people scream . Millie brown , Brian , Julian made some funny moments . This movie being released first in India , one week before USA release Is a smart move . Result of which most of the people in India can watch this epic in theaters . This is not a movie to be watched in OTT or pirated print or DVD . Experience this epic in nearest theatres , take all precautions of covid .\"\n",
            " \"While Melissa McCarthy can be funny (I enjoyed The Heat and Spy), it's obvious no matter the studio, everything McCarthy and her husband, Ben Falcone, offer up is immediately greenlit. That has to stop. This is the umpeeth unfunny movie by the married duo. After the first 30 minutes, I simply had the movie on in the background, but could still hear McCarthy's ad-libs which were excruciatingly awful. If this is the best an immensely talented actress like Octavia Spencer has to pick from, that's a sad commentary on the state of comedic films. Let's hope she got a big, upfront payday.\"\n",
            " \"Last movie I saw was Minari, it was great, but sometimes watching something silly that doesn't invoke a lot of emotion is good for the soul too. After a long week of work and being tired and needing to unwind I watched this and found it really entertaining. Laughed out loud throughout the whole movie. If you like Melissa McCarthy then you'll enjoy this. Especially with her teamed up with Jason Bateman again. If you are looking for something to stimulate you intellectually this isn't the movie but it isn't intended to be either.\"\n",
            " \"I know a movie is hardly as good as the book, but come on... HP 4 was a great movie, and so were the others. This lacks of plot (well, the book's, for it has Ron's romantic life as one) and of details: Dumbledore's chat about horcruxes and possible ones. Ginny and Harry's REAL kiss. Fleur and the wedding, very important in the next. the OTHER minister. Fenrir Grayback Tonk's patronus and explanation the funeral. It isn't that I expected a faithful adaptation, but those are important details. I loved the way you can kill the Headmaster and then walk through the corridors, even destroying the Great Hall without no one waking up nor listening, and also do an fatal curse like Sectumsempra and not getting even detention...Hardly a decent movie, it could have been better, MUCH better. It's a shame that nowadays most directors only care to make money...\"\n",
            " 'HP6 is a dark and emotionally thrilling masterpiece. It combines magical awes that appeal mostly to children as well as mature and dark themes that appeal to almost everyone. It discovers the dark and mysterious past of you-know-who and leaves the audience aching for more as its two and half hours run time go by in a flash. The film contains dazzling visuals and terrific cinematography. It is indeed a satisfying experience that will please just about everyone. One thing is for certain though: in resemblance to the Rowling novels, the film series seems to get darker and more mature with every passing film while keeping an incredible PG rating (in the exception of HP4 & 5). This film not only has some bangs and booms but also explores the theme of teenage love as the three protagonists find themselves tangled in teenage romances. Overall a top notch film worth seeing over and over. Cant wait for the arrival of the Deathly Hallows.']\n"
          ],
          "name": "stdout"
        }
      ]
    },
    {
      "cell_type": "code",
      "metadata": {
        "id": "IVtJ_A2cXjrc",
        "colab": {
          "base_uri": "https://localhost:8080/"
        },
        "outputId": "6ff51925-4665-482e-98a5-383199897786"
      },
      "source": [
        "predictions = end_to_end_model.predict(additional_reviews[0])\n",
        "print(predictions)"
      ],
      "execution_count": null,
      "outputs": [
        {
          "output_type": "stream",
          "text": [
            "[[0.03346896]\n",
            " [0.74434125]\n",
            " [0.28694433]\n",
            " [0.9793265 ]\n",
            " [0.35601255]\n",
            " [0.9962232 ]]\n"
          ],
          "name": "stdout"
        }
      ]
    }
  ]
}